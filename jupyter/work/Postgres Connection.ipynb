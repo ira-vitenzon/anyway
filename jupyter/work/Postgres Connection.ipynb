{
 "cells": [
  {
   "cell_type": "code",
   "execution_count": 1,
   "metadata": {},
   "outputs": [],
   "source": [
    "import psycopg2"
   ]
  },
  {
   "cell_type": "code",
   "execution_count": 2,
   "metadata": {},
   "outputs": [],
   "source": [
    "# Connect to an existing database\n",
    "\n",
    "conn = psycopg2.connect(dbname=\"anyway\", user=\"anyway\", password=\"anyway\", host=\"db\")"
   ]
  },
  {
   "cell_type": "code",
   "execution_count": 3,
   "metadata": {},
   "outputs": [
    {
     "name": "stdout",
     "output_type": "stream",
     "text": [
      "<connection object at 0x7fc863c79cd0; dsn: 'user=anyway password=xxx dbname=anyway host=db', closed: 0>\n"
     ]
    }
   ],
   "source": [
    "print(conn)"
   ]
  },
  {
   "cell_type": "code",
   "execution_count": 4,
   "metadata": {},
   "outputs": [],
   "source": [
    "# Open a cursor to perform database operations\n",
    "cur = conn.cursor()"
   ]
  },
  {
   "cell_type": "code",
   "execution_count": null,
   "metadata": {},
   "outputs": [],
   "source": [
    "# a query to ask the Postgres database what tables exist that fit the “public” schema\n",
    "s = \"\"\n",
    "s += \"SELECT\"\n",
    "s += \" table_schema\"\n",
    "s += \", table_name\"\n",
    "s += \" FROM information_schema.tables\"\n",
    "s += \" ORDER BY table_schema, table_name;\""
   ]
  },
  {
   "cell_type": "code",
   "execution_count": null,
   "metadata": {},
   "outputs": [],
   "source": [
    "print(s)"
   ]
  },
  {
   "cell_type": "code",
   "execution_count": null,
   "metadata": {},
   "outputs": [],
   "source": [
    "cur.execute(s)"
   ]
  },
  {
   "cell_type": "code",
   "execution_count": null,
   "metadata": {},
   "outputs": [],
   "source": [
    "list_tables = cur.fetchall()"
   ]
  },
  {
   "cell_type": "code",
   "execution_count": null,
   "metadata": {},
   "outputs": [],
   "source": [
    "type(list_tables)"
   ]
  },
  {
   "cell_type": "code",
   "execution_count": null,
   "metadata": {},
   "outputs": [],
   "source": [
    "list_tables[0][1]"
   ]
  },
  {
   "cell_type": "code",
   "execution_count": null,
   "metadata": {},
   "outputs": [],
   "source": [
    "for table_name in list_tables:\n",
    "    print(table_name[1])"
   ]
  },
  {
   "cell_type": "code",
   "execution_count": 5,
   "metadata": {},
   "outputs": [],
   "source": [
    "# a query to get waze alerts\n",
    "query = \"SELECT * FROM waze_alerts\"\n",
    "cur.execute(query)\n",
    "waze_alerts = cur.fetchall()"
   ]
  },
  {
   "cell_type": "code",
   "execution_count": 6,
   "metadata": {},
   "outputs": [
    {
     "name": "stdout",
     "output_type": "stream",
     "text": [
      "['id', 'city', 'confidence', 'created_at', 'lontitude', 'latitude', 'magvar', 'number_thumbs_up', 'report_rating', 'reliability', 'alert_type', 'alert_subtype', 'uuid', 'street', 'road_type', 'geom']\n"
     ]
    }
   ],
   "source": [
    "column_names = [desc[0] for desc in cur.description]\n",
    "print(column_names)"
   ]
  },
  {
   "cell_type": "code",
   "execution_count": 7,
   "metadata": {},
   "outputs": [
    {
     "data": {
      "text/plain": [
       "list"
      ]
     },
     "execution_count": 7,
     "metadata": {},
     "output_type": "execute_result"
    }
   ],
   "source": [
    "type(waze_alerts)"
   ]
  },
  {
   "cell_type": "code",
   "execution_count": 8,
   "metadata": {},
   "outputs": [
    {
     "data": {
      "text/plain": [
       "tuple"
      ]
     },
     "execution_count": 8,
     "metadata": {},
     "output_type": "execute_result"
    }
   ],
   "source": [
    "type(waze_alerts[0])"
   ]
  },
  {
   "cell_type": "code",
   "execution_count": 9,
   "metadata": {},
   "outputs": [
    {
     "data": {
      "text/plain": [
       "350668"
      ]
     },
     "execution_count": 9,
     "metadata": {},
     "output_type": "execute_result"
    }
   ],
   "source": [
    "len(waze_alerts)"
   ]
  },
  {
   "cell_type": "code",
   "execution_count": null,
   "metadata": {},
   "outputs": [],
   "source": [
    "thumbs_up_alerts = [i for i in waze_alerts if i[7]>0]"
   ]
  },
  {
   "cell_type": "code",
   "execution_count": null,
   "metadata": {},
   "outputs": [],
   "source": [
    "len(thumbs_up_alerts)"
   ]
  },
  {
   "cell_type": "code",
   "execution_count": null,
   "metadata": {},
   "outputs": [],
   "source": [
    "confidence_alerts = [i for i in waze_alerts if i[2]>0]"
   ]
  },
  {
   "cell_type": "code",
   "execution_count": null,
   "metadata": {},
   "outputs": [],
   "source": [
    "len(confidence_alerts)"
   ]
  },
  {
   "cell_type": "code",
   "execution_count": null,
   "metadata": {},
   "outputs": [],
   "source": [
    "waze_alerts[0][9]"
   ]
  },
  {
   "cell_type": "code",
   "execution_count": null,
   "metadata": {},
   "outputs": [],
   "source": [
    "reliability_alerts = [i for i in waze_alerts if i[9]>0]\n",
    "len(reliability_alerts)"
   ]
  },
  {
   "cell_type": "code",
   "execution_count": null,
   "metadata": {},
   "outputs": [],
   "source": [
    "accidents = [i for i in waze_alerts if i[10]=='ACCIDENT']"
   ]
  },
  {
   "cell_type": "code",
   "execution_count": null,
   "metadata": {},
   "outputs": [],
   "source": [
    "len(accidents)"
   ]
  },
  {
   "cell_type": "code",
   "execution_count": null,
   "metadata": {},
   "outputs": [],
   "source": [
    "query = \"SELECT * FROM waze_alerts WHERE alert_type = 'ACCIDENT';\"\n",
    "cur.execute(query)\n",
    "waze_accident_alerts = cur.fetchall()"
   ]
  },
  {
   "cell_type": "code",
   "execution_count": null,
   "metadata": {},
   "outputs": [],
   "source": [
    "len(waze_accident_alerts)"
   ]
  },
  {
   "cell_type": "code",
   "execution_count": null,
   "metadata": {},
   "outputs": [],
   "source": [
    "confidence_accident_alerts = [i for i in waze_accident_alerts if i[2]==5]\n",
    "len(confidence_accident_alerts)"
   ]
  },
  {
   "cell_type": "code",
   "execution_count": null,
   "metadata": {},
   "outputs": [],
   "source": [
    "confidence_values = [i[2] for i in confidence_accident_alerts]"
   ]
  },
  {
   "cell_type": "code",
   "execution_count": null,
   "metadata": {},
   "outputs": [],
   "source": [
    "max(confidence_values)"
   ]
  },
  {
   "cell_type": "code",
   "execution_count": null,
   "metadata": {},
   "outputs": [],
   "source": [
    "min(confidence_values)"
   ]
  },
  {
   "cell_type": "code",
   "execution_count": 10,
   "metadata": {},
   "outputs": [],
   "source": [
    "query =  \"SELECT * FROM markers_hebrew LIMIT 1000\"\n",
    "cur.execute(query)"
   ]
  },
  {
   "cell_type": "code",
   "execution_count": 11,
   "metadata": {},
   "outputs": [],
   "source": [
    "markers = cur.fetchall()\n",
    "column_names = [desc[0] for desc in cur.description]"
   ]
  },
  {
   "cell_type": "code",
   "execution_count": 12,
   "metadata": {},
   "outputs": [
    {
     "name": "stdout",
     "output_type": "stream",
     "text": [
      "id\n",
      "provider_and_id\n",
      "provider_code\n",
      "provider_code_hebrew\n",
      "file_type_police\n",
      "accident_type\n",
      "accident_type_hebrew\n",
      "accident_severity\n",
      "accident_severity_hebrew\n",
      "accident_timestamp\n",
      "location_accuracy\n",
      "location_accuracy_hebrew\n",
      "road_type\n",
      "road_type_hebrew\n",
      "road_shape\n",
      "road_shape_hebrew\n",
      "day_type\n",
      "day_type_hebrew\n",
      "police_unit\n",
      "police_unit_hebrew\n",
      "one_lane\n",
      "one_lane_hebrew\n",
      "multi_lane\n",
      "multi_lane_hebrew\n",
      "speed_limit\n",
      "speed_limit_hebrew\n",
      "road_intactness\n",
      "road_intactness_hebrew\n",
      "road_width\n",
      "road_width_hebrew\n",
      "road_sign\n",
      "road_sign_hebrew\n",
      "road_light\n",
      "road_light_hebrew\n",
      "road_control\n",
      "road_control_hebrew\n",
      "weather\n",
      "weather_hebrew\n",
      "road_surface\n",
      "road_surface_hebrew\n",
      "road_object\n",
      "road_object_hebrew\n",
      "object_distance\n",
      "object_distance_hebrew\n",
      "didnt_cross\n",
      "didnt_cross_hebrew\n",
      "cross_mode\n",
      "cross_mode_hebrew\n",
      "cross_location\n",
      "cross_location_hebrew\n",
      "cross_direction\n",
      "cross_direction_hebrew\n",
      "road1\n",
      "road2\n",
      "km\n",
      "km_raw\n",
      "km_accurate\n",
      "road_segment_id\n",
      "road_segment_number\n",
      "road_segment_name\n",
      "road_segment_from_km\n",
      "road_segment_to_km\n",
      "road_segment_length_km\n",
      "yishuv_symbol\n",
      "yishuv_name\n",
      "geo_area\n",
      "geo_area_hebrew\n",
      "day_night\n",
      "day_night_hebrew\n",
      "day_in_week\n",
      "day_in_week_hebrew\n",
      "traffic_light\n",
      "traffic_light_hebrew\n",
      "region\n",
      "region_hebrew\n",
      "district\n",
      "district_hebrew\n",
      "natural_area\n",
      "natural_area_hebrew\n",
      "municipal_status\n",
      "municipal_status_hebrew\n",
      "yishuv_shape\n",
      "yishuv_shape_hebrew\n",
      "street1\n",
      "street1_hebrew\n",
      "street2\n",
      "street2_hebrew\n",
      "house_number\n",
      "non_urban_intersection\n",
      "non_urban_intersection_hebrew\n",
      "non_urban_intersection_by_junction_number\n",
      "urban_intersection\n",
      "accident_year\n",
      "accident_month\n",
      "accident_day\n",
      "accident_hour_raw\n",
      "accident_hour_raw_hebrew\n",
      "accident_hour\n",
      "accident_minute\n",
      "geom\n",
      "longitude\n",
      "latitude\n",
      "x\n",
      "y\n"
     ]
    }
   ],
   "source": [
    "for column in column_names:\n",
    "    print(column)"
   ]
  },
  {
   "cell_type": "code",
   "execution_count": 13,
   "metadata": {},
   "outputs": [
    {
     "data": {
      "text/plain": [
       "list"
      ]
     },
     "execution_count": 13,
     "metadata": {},
     "output_type": "execute_result"
    }
   ],
   "source": [
    "type(markers)"
   ]
  },
  {
   "cell_type": "code",
   "execution_count": 14,
   "metadata": {},
   "outputs": [
    {
     "data": {
      "text/plain": [
       "1000"
      ]
     },
     "execution_count": 14,
     "metadata": {},
     "output_type": "execute_result"
    }
   ],
   "source": [
    "len(markers)"
   ]
  },
  {
   "cell_type": "code",
   "execution_count": 17,
   "metadata": {},
   "outputs": [
    {
     "ename": "TypeError",
     "evalue": "tuple indices must be integers or slices, not str",
     "output_type": "error",
     "traceback": [
      "\u001b[0;31m---------------------------------------------------------------------------\u001b[0m",
      "\u001b[0;31mTypeError\u001b[0m                                 Traceback (most recent call last)",
      "\u001b[0;32m<ipython-input-17-5185ab2f9c5a>\u001b[0m in \u001b[0;36m<module>\u001b[0;34m\u001b[0m\n\u001b[0;32m----> 1\u001b[0;31m \u001b[0mmarkers\u001b[0m\u001b[0;34m[\u001b[0m\u001b[0;36m0\u001b[0m\u001b[0;34m]\u001b[0m\u001b[0;34m[\u001b[0m\u001b[0;34m'accident_timestamp'\u001b[0m\u001b[0;34m]\u001b[0m\u001b[0;34m\u001b[0m\u001b[0;34m\u001b[0m\u001b[0m\n\u001b[0m",
      "\u001b[0;31mTypeError\u001b[0m: tuple indices must be integers or slices, not str"
     ]
    }
   ],
   "source": [
    "markers[0]['accident_timestamp']"
   ]
  },
  {
   "cell_type": "code",
   "execution_count": 19,
   "metadata": {},
   "outputs": [
    {
     "data": {
      "text/plain": [
       "104"
      ]
     },
     "execution_count": 19,
     "metadata": {},
     "output_type": "execute_result"
    }
   ],
   "source": [
    "len(markers[0])"
   ]
  },
  {
   "cell_type": "code",
   "execution_count": 20,
   "metadata": {},
   "outputs": [
    {
     "data": {
      "text/plain": [
       "104"
      ]
     },
     "execution_count": 20,
     "metadata": {},
     "output_type": "execute_result"
    }
   ],
   "source": [
    "len(column_names)"
   ]
  },
  {
   "cell_type": "code",
   "execution_count": 21,
   "metadata": {},
   "outputs": [],
   "source": [
    "import pandas as pd"
   ]
  },
  {
   "cell_type": "code",
   "execution_count": 22,
   "metadata": {},
   "outputs": [],
   "source": [
    "df_markers = pd.DataFrame(markers, columns = column_names)"
   ]
  },
  {
   "cell_type": "code",
   "execution_count": 23,
   "metadata": {},
   "outputs": [
    {
     "data": {
      "text/plain": [
       "Index(['id', 'provider_and_id', 'provider_code', 'provider_code_hebrew',\n",
       "       'file_type_police', 'accident_type', 'accident_type_hebrew',\n",
       "       'accident_severity', 'accident_severity_hebrew', 'accident_timestamp',\n",
       "       ...\n",
       "       'accident_day', 'accident_hour_raw', 'accident_hour_raw_hebrew',\n",
       "       'accident_hour', 'accident_minute', 'geom', 'longitude', 'latitude',\n",
       "       'x', 'y'],\n",
       "      dtype='object', length=104)"
      ]
     },
     "execution_count": 23,
     "metadata": {},
     "output_type": "execute_result"
    }
   ],
   "source": [
    "df_markers.columns"
   ]
  },
  {
   "cell_type": "code",
   "execution_count": 24,
   "metadata": {},
   "outputs": [
    {
     "data": {
      "text/html": [
       "<div>\n",
       "<style scoped>\n",
       "    .dataframe tbody tr th:only-of-type {\n",
       "        vertical-align: middle;\n",
       "    }\n",
       "\n",
       "    .dataframe tbody tr th {\n",
       "        vertical-align: top;\n",
       "    }\n",
       "\n",
       "    .dataframe thead th {\n",
       "        text-align: right;\n",
       "    }\n",
       "</style>\n",
       "<table border=\"1\" class=\"dataframe\">\n",
       "  <thead>\n",
       "    <tr style=\"text-align: right;\">\n",
       "      <th></th>\n",
       "      <th>id</th>\n",
       "      <th>provider_and_id</th>\n",
       "      <th>provider_code</th>\n",
       "      <th>provider_code_hebrew</th>\n",
       "      <th>file_type_police</th>\n",
       "      <th>accident_type</th>\n",
       "      <th>accident_type_hebrew</th>\n",
       "      <th>accident_severity</th>\n",
       "      <th>accident_severity_hebrew</th>\n",
       "      <th>accident_timestamp</th>\n",
       "      <th>...</th>\n",
       "      <th>accident_day</th>\n",
       "      <th>accident_hour_raw</th>\n",
       "      <th>accident_hour_raw_hebrew</th>\n",
       "      <th>accident_hour</th>\n",
       "      <th>accident_minute</th>\n",
       "      <th>geom</th>\n",
       "      <th>longitude</th>\n",
       "      <th>latitude</th>\n",
       "      <th>x</th>\n",
       "      <th>y</th>\n",
       "    </tr>\n",
       "  </thead>\n",
       "  <tbody>\n",
       "    <tr>\n",
       "      <th>0</th>\n",
       "      <td>2018081148</td>\n",
       "      <td>32018081148</td>\n",
       "      <td>3</td>\n",
       "      <td>הלשכה המרכזית לסטטיסטיקה - סוג תיק 3</td>\n",
       "      <td>3.0</td>\n",
       "      <td>3</td>\n",
       "      <td>התנגשות חזית באחור</td>\n",
       "      <td>3</td>\n",
       "      <td>קלה</td>\n",
       "      <td>2018-03-19 13:00:00</td>\n",
       "      <td>...</td>\n",
       "      <td>19</td>\n",
       "      <td>53</td>\n",
       "      <td>13:00-13:14</td>\n",
       "      <td>13</td>\n",
       "      <td>0</td>\n",
       "      <td>0101000020E6100000CD7AFF1CE29D41406F0333ECCECD...</td>\n",
       "      <td>35.233463</td>\n",
       "      <td>31.803939</td>\n",
       "      <td>222198.0</td>\n",
       "      <td>634571.0</td>\n",
       "    </tr>\n",
       "    <tr>\n",
       "      <th>1</th>\n",
       "      <td>2018081150</td>\n",
       "      <td>32018081150</td>\n",
       "      <td>3</td>\n",
       "      <td>הלשכה המרכזית לסטטיסטיקה - סוג תיק 3</td>\n",
       "      <td>3.0</td>\n",
       "      <td>3</td>\n",
       "      <td>התנגשות חזית באחור</td>\n",
       "      <td>3</td>\n",
       "      <td>קלה</td>\n",
       "      <td>2018-10-31 07:30:00</td>\n",
       "      <td>...</td>\n",
       "      <td>31</td>\n",
       "      <td>31</td>\n",
       "      <td>07:30-07:44</td>\n",
       "      <td>7</td>\n",
       "      <td>30</td>\n",
       "      <td>0101000020E61000008B9AAD18EF614140A1B99AD1D69B...</td>\n",
       "      <td>34.765109</td>\n",
       "      <td>31.608747</td>\n",
       "      <td>177760.0</td>\n",
       "      <td>613011.0</td>\n",
       "    </tr>\n",
       "    <tr>\n",
       "      <th>2</th>\n",
       "      <td>2018081151</td>\n",
       "      <td>32018081151</td>\n",
       "      <td>3</td>\n",
       "      <td>הלשכה המרכזית לסטטיסטיקה - סוג תיק 3</td>\n",
       "      <td>3.0</td>\n",
       "      <td>3</td>\n",
       "      <td>התנגשות חזית באחור</td>\n",
       "      <td>3</td>\n",
       "      <td>קלה</td>\n",
       "      <td>2018-05-07 07:00:00</td>\n",
       "      <td>...</td>\n",
       "      <td>7</td>\n",
       "      <td>29</td>\n",
       "      <td>07:00-07:14</td>\n",
       "      <td>7</td>\n",
       "      <td>0</td>\n",
       "      <td>0101000020E610000013C4241B7F8D4140D660F5B84B8C...</td>\n",
       "      <td>35.105441</td>\n",
       "      <td>33.096061</td>\n",
       "      <td>210208.0</td>\n",
       "      <td>777866.0</td>\n",
       "    </tr>\n",
       "    <tr>\n",
       "      <th>3</th>\n",
       "      <td>2018081154</td>\n",
       "      <td>32018081154</td>\n",
       "      <td>3</td>\n",
       "      <td>הלשכה המרכזית לסטטיסטיקה - סוג תיק 3</td>\n",
       "      <td>3.0</td>\n",
       "      <td>11</td>\n",
       "      <td>החלקה</td>\n",
       "      <td>3</td>\n",
       "      <td>קלה</td>\n",
       "      <td>2018-03-10 14:30:00</td>\n",
       "      <td>...</td>\n",
       "      <td>10</td>\n",
       "      <td>59</td>\n",
       "      <td>14:30-14:44</td>\n",
       "      <td>14</td>\n",
       "      <td>30</td>\n",
       "      <td>0101000020E610000069C219DF96A04140C1487FD7E575...</td>\n",
       "      <td>35.254604</td>\n",
       "      <td>32.921077</td>\n",
       "      <td>224142.0</td>\n",
       "      <td>758456.0</td>\n",
       "    </tr>\n",
       "    <tr>\n",
       "      <th>4</th>\n",
       "      <td>2018081155</td>\n",
       "      <td>32018081155</td>\n",
       "      <td>3</td>\n",
       "      <td>הלשכה המרכזית לסטטיסטיקה - סוג תיק 3</td>\n",
       "      <td>3.0</td>\n",
       "      <td>4</td>\n",
       "      <td>התנגשות צד בצד</td>\n",
       "      <td>3</td>\n",
       "      <td>קלה</td>\n",
       "      <td>2018-09-27 10:00:00</td>\n",
       "      <td>...</td>\n",
       "      <td>27</td>\n",
       "      <td>41</td>\n",
       "      <td>10:00-10:14</td>\n",
       "      <td>10</td>\n",
       "      <td>0</td>\n",
       "      <td>0101000020E61000005FDEC3BB2653414037790EC0A1CB...</td>\n",
       "      <td>34.649620</td>\n",
       "      <td>31.795437</td>\n",
       "      <td>166906.0</td>\n",
       "      <td>633762.0</td>\n",
       "    </tr>\n",
       "  </tbody>\n",
       "</table>\n",
       "<p>5 rows × 104 columns</p>\n",
       "</div>"
      ],
      "text/plain": [
       "           id  provider_and_id  provider_code  \\\n",
       "0  2018081148      32018081148              3   \n",
       "1  2018081150      32018081150              3   \n",
       "2  2018081151      32018081151              3   \n",
       "3  2018081154      32018081154              3   \n",
       "4  2018081155      32018081155              3   \n",
       "\n",
       "                   provider_code_hebrew  file_type_police  accident_type  \\\n",
       "0  הלשכה המרכזית לסטטיסטיקה - סוג תיק 3               3.0              3   \n",
       "1  הלשכה המרכזית לסטטיסטיקה - סוג תיק 3               3.0              3   \n",
       "2  הלשכה המרכזית לסטטיסטיקה - סוג תיק 3               3.0              3   \n",
       "3  הלשכה המרכזית לסטטיסטיקה - סוג תיק 3               3.0             11   \n",
       "4  הלשכה המרכזית לסטטיסטיקה - סוג תיק 3               3.0              4   \n",
       "\n",
       "  accident_type_hebrew  accident_severity accident_severity_hebrew  \\\n",
       "0   התנגשות חזית באחור                  3                      קלה   \n",
       "1   התנגשות חזית באחור                  3                      קלה   \n",
       "2   התנגשות חזית באחור                  3                      קלה   \n",
       "3                החלקה                  3                      קלה   \n",
       "4       התנגשות צד בצד                  3                      קלה   \n",
       "\n",
       "   accident_timestamp  ...  accident_day accident_hour_raw  \\\n",
       "0 2018-03-19 13:00:00  ...            19                53   \n",
       "1 2018-10-31 07:30:00  ...            31                31   \n",
       "2 2018-05-07 07:00:00  ...             7                29   \n",
       "3 2018-03-10 14:30:00  ...            10                59   \n",
       "4 2018-09-27 10:00:00  ...            27                41   \n",
       "\n",
       "   accident_hour_raw_hebrew accident_hour  accident_minute  \\\n",
       "0               13:00-13:14            13                0   \n",
       "1               07:30-07:44             7               30   \n",
       "2               07:00-07:14             7                0   \n",
       "3               14:30-14:44            14               30   \n",
       "4               10:00-10:14            10                0   \n",
       "\n",
       "                                                geom  longitude   latitude  \\\n",
       "0  0101000020E6100000CD7AFF1CE29D41406F0333ECCECD...  35.233463  31.803939   \n",
       "1  0101000020E61000008B9AAD18EF614140A1B99AD1D69B...  34.765109  31.608747   \n",
       "2  0101000020E610000013C4241B7F8D4140D660F5B84B8C...  35.105441  33.096061   \n",
       "3  0101000020E610000069C219DF96A04140C1487FD7E575...  35.254604  32.921077   \n",
       "4  0101000020E61000005FDEC3BB2653414037790EC0A1CB...  34.649620  31.795437   \n",
       "\n",
       "          x         y  \n",
       "0  222198.0  634571.0  \n",
       "1  177760.0  613011.0  \n",
       "2  210208.0  777866.0  \n",
       "3  224142.0  758456.0  \n",
       "4  166906.0  633762.0  \n",
       "\n",
       "[5 rows x 104 columns]"
      ]
     },
     "execution_count": 24,
     "metadata": {},
     "output_type": "execute_result"
    }
   ],
   "source": [
    "df_markers.head()"
   ]
  },
  {
   "cell_type": "code",
   "execution_count": 25,
   "metadata": {},
   "outputs": [],
   "source": [
    "query = \"SELECT * FROM waze_alerts WHERE alert_type = 'ACCIDENT';\"\n",
    "cur.execute(query)\n",
    "waze_accident_alerts = cur.fetchall()"
   ]
  },
  {
   "cell_type": "code",
   "execution_count": 26,
   "metadata": {},
   "outputs": [],
   "source": [
    "column_names = [desc[0] for desc in cur.description]"
   ]
  },
  {
   "cell_type": "code",
   "execution_count": 27,
   "metadata": {},
   "outputs": [],
   "source": [
    "df_waze_accident_alerts = pd.DataFrame(waze_accident_alerts, columns = column_names)"
   ]
  },
  {
   "cell_type": "code",
   "execution_count": 28,
   "metadata": {},
   "outputs": [
    {
     "data": {
      "text/html": [
       "<div>\n",
       "<style scoped>\n",
       "    .dataframe tbody tr th:only-of-type {\n",
       "        vertical-align: middle;\n",
       "    }\n",
       "\n",
       "    .dataframe tbody tr th {\n",
       "        vertical-align: top;\n",
       "    }\n",
       "\n",
       "    .dataframe thead th {\n",
       "        text-align: right;\n",
       "    }\n",
       "</style>\n",
       "<table border=\"1\" class=\"dataframe\">\n",
       "  <thead>\n",
       "    <tr style=\"text-align: right;\">\n",
       "      <th></th>\n",
       "      <th>id</th>\n",
       "      <th>city</th>\n",
       "      <th>confidence</th>\n",
       "      <th>created_at</th>\n",
       "      <th>lontitude</th>\n",
       "      <th>latitude</th>\n",
       "      <th>magvar</th>\n",
       "      <th>number_thumbs_up</th>\n",
       "      <th>report_rating</th>\n",
       "      <th>reliability</th>\n",
       "      <th>alert_type</th>\n",
       "      <th>alert_subtype</th>\n",
       "      <th>uuid</th>\n",
       "      <th>street</th>\n",
       "      <th>road_type</th>\n",
       "      <th>geom</th>\n",
       "    </tr>\n",
       "  </thead>\n",
       "  <tbody>\n",
       "    <tr>\n",
       "      <th>0</th>\n",
       "      <td>23</td>\n",
       "      <td>NaN</td>\n",
       "      <td>2</td>\n",
       "      <td>2019-08-31 23:16:13</td>\n",
       "      <td>31.577055</td>\n",
       "      <td>34.806770</td>\n",
       "      <td>190</td>\n",
       "      <td>0</td>\n",
       "      <td>5</td>\n",
       "      <td>10</td>\n",
       "      <td>ACCIDENT</td>\n",
       "      <td></td>\n",
       "      <td>157ff0c3-ebd5-3c5b-a88e-0e6e283acdb9</td>\n",
       "      <td>6 דרום</td>\n",
       "      <td>3</td>\n",
       "      <td>010100000048FE60E0B9933F406CB2463D44674140</td>\n",
       "    </tr>\n",
       "    <tr>\n",
       "      <th>1</th>\n",
       "      <td>272</td>\n",
       "      <td>NaN</td>\n",
       "      <td>3</td>\n",
       "      <td>2019-08-31 23:16:13</td>\n",
       "      <td>31.577055</td>\n",
       "      <td>34.806770</td>\n",
       "      <td>190</td>\n",
       "      <td>0</td>\n",
       "      <td>5</td>\n",
       "      <td>10</td>\n",
       "      <td>ACCIDENT</td>\n",
       "      <td></td>\n",
       "      <td>157ff0c3-ebd5-3c5b-a88e-0e6e283acdb9</td>\n",
       "      <td>6 דרום</td>\n",
       "      <td>3</td>\n",
       "      <td>010100000048FE60E0B9933F406CB2463D44674140</td>\n",
       "    </tr>\n",
       "    <tr>\n",
       "      <th>2</th>\n",
       "      <td>521</td>\n",
       "      <td>NaN</td>\n",
       "      <td>3</td>\n",
       "      <td>2019-08-31 23:16:13</td>\n",
       "      <td>31.577055</td>\n",
       "      <td>34.806770</td>\n",
       "      <td>190</td>\n",
       "      <td>0</td>\n",
       "      <td>5</td>\n",
       "      <td>10</td>\n",
       "      <td>ACCIDENT</td>\n",
       "      <td></td>\n",
       "      <td>157ff0c3-ebd5-3c5b-a88e-0e6e283acdb9</td>\n",
       "      <td>6 דרום</td>\n",
       "      <td>3</td>\n",
       "      <td>010100000048FE60E0B9933F406CB2463D44674140</td>\n",
       "    </tr>\n",
       "    <tr>\n",
       "      <th>3</th>\n",
       "      <td>764</td>\n",
       "      <td>NaN</td>\n",
       "      <td>3</td>\n",
       "      <td>2019-08-31 23:16:13</td>\n",
       "      <td>31.577055</td>\n",
       "      <td>34.806770</td>\n",
       "      <td>190</td>\n",
       "      <td>0</td>\n",
       "      <td>5</td>\n",
       "      <td>10</td>\n",
       "      <td>ACCIDENT</td>\n",
       "      <td></td>\n",
       "      <td>157ff0c3-ebd5-3c5b-a88e-0e6e283acdb9</td>\n",
       "      <td>6 דרום</td>\n",
       "      <td>3</td>\n",
       "      <td>010100000048FE60E0B9933F406CB2463D44674140</td>\n",
       "    </tr>\n",
       "    <tr>\n",
       "      <th>4</th>\n",
       "      <td>3916</td>\n",
       "      <td>NaN</td>\n",
       "      <td>0</td>\n",
       "      <td>2019-09-01 00:55:23</td>\n",
       "      <td>31.836798</td>\n",
       "      <td>34.987609</td>\n",
       "      <td>346</td>\n",
       "      <td>0</td>\n",
       "      <td>5</td>\n",
       "      <td>5</td>\n",
       "      <td>ACCIDENT</td>\n",
       "      <td></td>\n",
       "      <td>43cf9e73-1d41-3968-9cb4-f220ce31c1d0</td>\n",
       "      <td>1 מערב</td>\n",
       "      <td>3</td>\n",
       "      <td>0101000000B45BCB6438D63F401D1EC2F8697E4140</td>\n",
       "    </tr>\n",
       "  </tbody>\n",
       "</table>\n",
       "</div>"
      ],
      "text/plain": [
       "     id city  confidence          created_at  lontitude   latitude  magvar  \\\n",
       "0    23  NaN           2 2019-08-31 23:16:13  31.577055  34.806770     190   \n",
       "1   272  NaN           3 2019-08-31 23:16:13  31.577055  34.806770     190   \n",
       "2   521  NaN           3 2019-08-31 23:16:13  31.577055  34.806770     190   \n",
       "3   764  NaN           3 2019-08-31 23:16:13  31.577055  34.806770     190   \n",
       "4  3916  NaN           0 2019-09-01 00:55:23  31.836798  34.987609     346   \n",
       "\n",
       "   number_thumbs_up  report_rating  reliability alert_type alert_subtype  \\\n",
       "0                 0              5           10   ACCIDENT                 \n",
       "1                 0              5           10   ACCIDENT                 \n",
       "2                 0              5           10   ACCIDENT                 \n",
       "3                 0              5           10   ACCIDENT                 \n",
       "4                 0              5            5   ACCIDENT                 \n",
       "\n",
       "                                   uuid  street  road_type  \\\n",
       "0  157ff0c3-ebd5-3c5b-a88e-0e6e283acdb9  6 דרום          3   \n",
       "1  157ff0c3-ebd5-3c5b-a88e-0e6e283acdb9  6 דרום          3   \n",
       "2  157ff0c3-ebd5-3c5b-a88e-0e6e283acdb9  6 דרום          3   \n",
       "3  157ff0c3-ebd5-3c5b-a88e-0e6e283acdb9  6 דרום          3   \n",
       "4  43cf9e73-1d41-3968-9cb4-f220ce31c1d0  1 מערב          3   \n",
       "\n",
       "                                         geom  \n",
       "0  010100000048FE60E0B9933F406CB2463D44674140  \n",
       "1  010100000048FE60E0B9933F406CB2463D44674140  \n",
       "2  010100000048FE60E0B9933F406CB2463D44674140  \n",
       "3  010100000048FE60E0B9933F406CB2463D44674140  \n",
       "4  0101000000B45BCB6438D63F401D1EC2F8697E4140  "
      ]
     },
     "execution_count": 28,
     "metadata": {},
     "output_type": "execute_result"
    }
   ],
   "source": [
    "df_waze_accident_alerts.head()"
   ]
  },
  {
   "cell_type": "code",
   "execution_count": 32,
   "metadata": {},
   "outputs": [],
   "source": [
    "query = \"SELECT * FROM news_flash\"\n",
    "cur.execute(query)"
   ]
  },
  {
   "cell_type": "code",
   "execution_count": 33,
   "metadata": {},
   "outputs": [],
   "source": [
    "news_flash = cur.fetchall()"
   ]
  },
  {
   "cell_type": "code",
   "execution_count": 34,
   "metadata": {},
   "outputs": [
    {
     "data": {
      "text/plain": [
       "24730"
      ]
     },
     "execution_count": 34,
     "metadata": {},
     "output_type": "execute_result"
    }
   ],
   "source": [
    "len(news_flash)"
   ]
  },
  {
   "cell_type": "code",
   "execution_count": 37,
   "metadata": {},
   "outputs": [
    {
     "data": {
      "text/plain": [
       "['id',\n",
       " 'accident',\n",
       " 'author',\n",
       " 'date',\n",
       " 'description',\n",
       " 'lat',\n",
       " 'link',\n",
       " 'lon',\n",
       " 'title',\n",
       " 'source',\n",
       " 'location',\n",
       " 'road1',\n",
       " 'road2',\n",
       " 'resolution',\n",
       " 'tweet_id',\n",
       " 'district_hebrew',\n",
       " 'non_urban_intersection_hebrew',\n",
       " 'region_hebrew',\n",
       " 'road_segment_name',\n",
       " 'street1_hebrew',\n",
       " 'street2_hebrew',\n",
       " 'yishuv_name']"
      ]
     },
     "execution_count": 37,
     "metadata": {},
     "output_type": "execute_result"
    }
   ],
   "source": [
    "column_names = [desc[0] for desc in cur.description]\n",
    "column_names"
   ]
  },
  {
   "cell_type": "code",
   "execution_count": 38,
   "metadata": {},
   "outputs": [],
   "source": [
    "df_news_flash = pd.DataFrame(news_flash, columns = column_names)"
   ]
  },
  {
   "cell_type": "code",
   "execution_count": 40,
   "metadata": {},
   "outputs": [
    {
     "data": {
      "text/html": [
       "<div>\n",
       "<style scoped>\n",
       "    .dataframe tbody tr th:only-of-type {\n",
       "        vertical-align: middle;\n",
       "    }\n",
       "\n",
       "    .dataframe tbody tr th {\n",
       "        vertical-align: top;\n",
       "    }\n",
       "\n",
       "    .dataframe thead th {\n",
       "        text-align: right;\n",
       "    }\n",
       "</style>\n",
       "<table border=\"1\" class=\"dataframe\">\n",
       "  <thead>\n",
       "    <tr style=\"text-align: right;\">\n",
       "      <th></th>\n",
       "      <th>id</th>\n",
       "      <th>accident</th>\n",
       "      <th>author</th>\n",
       "      <th>date</th>\n",
       "      <th>description</th>\n",
       "      <th>lat</th>\n",
       "      <th>link</th>\n",
       "      <th>lon</th>\n",
       "      <th>title</th>\n",
       "      <th>source</th>\n",
       "      <th>...</th>\n",
       "      <th>road2</th>\n",
       "      <th>resolution</th>\n",
       "      <th>tweet_id</th>\n",
       "      <th>district_hebrew</th>\n",
       "      <th>non_urban_intersection_hebrew</th>\n",
       "      <th>region_hebrew</th>\n",
       "      <th>road_segment_name</th>\n",
       "      <th>street1_hebrew</th>\n",
       "      <th>street2_hebrew</th>\n",
       "      <th>yishuv_name</th>\n",
       "    </tr>\n",
       "  </thead>\n",
       "  <tbody>\n",
       "    <tr>\n",
       "      <th>0</th>\n",
       "      <td>16439</td>\n",
       "      <td>False</td>\n",
       "      <td>רויטרס</td>\n",
       "      <td>2020-01-27 18:24:16</td>\n",
       "      <td>נשיא ארה\"ב דונלד טראמפ הודיע כי הבית הלבן יפרס...</td>\n",
       "      <td>NaN</td>\n",
       "      <td>http://www.ynet.co.il/articles/0,7340,L-566737...</td>\n",
       "      <td>NaN</td>\n",
       "      <td>טראמפ: הבית הלבן יפרסם את תוכנית השלום מחר ב-1...</td>\n",
       "      <td>ynet</td>\n",
       "      <td>...</td>\n",
       "      <td>NaN</td>\n",
       "      <td>None</td>\n",
       "      <td>NaN</td>\n",
       "      <td>None</td>\n",
       "      <td>None</td>\n",
       "      <td>None</td>\n",
       "      <td>None</td>\n",
       "      <td>None</td>\n",
       "      <td>None</td>\n",
       "      <td>None</td>\n",
       "    </tr>\n",
       "    <tr>\n",
       "      <th>1</th>\n",
       "      <td>23098</td>\n",
       "      <td>True</td>\n",
       "      <td>חסן שעלאן</td>\n",
       "      <td>2020-04-03 10:19:31</td>\n",
       "      <td>אש נפתחה במהלך הלילה לעבר ביתו של עובד בכיר בש...</td>\n",
       "      <td>32.965655</td>\n",
       "      <td>http://www.ynet.co.il/articles/0,7340,L-570723...</td>\n",
       "      <td>35.381268</td>\n",
       "      <td>אש נפתחה לעבר ביתו של בכיר בשב\"ס בבית ג'אן, אי...</td>\n",
       "      <td>ynet</td>\n",
       "      <td>...</td>\n",
       "      <td>NaN</td>\n",
       "      <td>עיר</td>\n",
       "      <td>NaN</td>\n",
       "      <td>None</td>\n",
       "      <td>None</td>\n",
       "      <td>None</td>\n",
       "      <td>None</td>\n",
       "      <td>None</td>\n",
       "      <td>None</td>\n",
       "      <td>בית ג'ן</td>\n",
       "    </tr>\n",
       "    <tr>\n",
       "      <th>2</th>\n",
       "      <td>23107</td>\n",
       "      <td>False</td>\n",
       "      <td>יקי אדמקר</td>\n",
       "      <td>2020-04-03 11:22:00</td>\n",
       "      <td>בסביבת שר הבריאות יעקב ליצמן אמרו היום (שישי)...</td>\n",
       "      <td>NaN</td>\n",
       "      <td>https://news.walla.co.il/item/3350294</td>\n",
       "      <td>NaN</td>\n",
       "      <td>מקורבים לליצמן: הוא שיתף פעולה בחקירה האפידמיו...</td>\n",
       "      <td>walla</td>\n",
       "      <td>...</td>\n",
       "      <td>NaN</td>\n",
       "      <td>None</td>\n",
       "      <td>NaN</td>\n",
       "      <td>None</td>\n",
       "      <td>None</td>\n",
       "      <td>None</td>\n",
       "      <td>None</td>\n",
       "      <td>None</td>\n",
       "      <td>None</td>\n",
       "      <td>None</td>\n",
       "    </tr>\n",
       "    <tr>\n",
       "      <th>3</th>\n",
       "      <td>23108</td>\n",
       "      <td>False</td>\n",
       "      <td>מאיה הורודניצ'אנו</td>\n",
       "      <td>2020-04-03 11:12:00</td>\n",
       "      <td>פרקליטות מחוז ירושלים (פלילי) הגישה היום (שיש...</td>\n",
       "      <td>NaN</td>\n",
       "      <td>https://news.walla.co.il/item/3350293</td>\n",
       "      <td>NaN</td>\n",
       "      <td>תושב בית שמש מואשם בתקיפת שוטר וסירוב לפזר התק...</td>\n",
       "      <td>walla</td>\n",
       "      <td>...</td>\n",
       "      <td>NaN</td>\n",
       "      <td>None</td>\n",
       "      <td>NaN</td>\n",
       "      <td>None</td>\n",
       "      <td>None</td>\n",
       "      <td>None</td>\n",
       "      <td>None</td>\n",
       "      <td>None</td>\n",
       "      <td>None</td>\n",
       "      <td>None</td>\n",
       "    </tr>\n",
       "    <tr>\n",
       "      <th>4</th>\n",
       "      <td>23110</td>\n",
       "      <td>False</td>\n",
       "      <td>אדיר ינקו</td>\n",
       "      <td>2020-04-03 11:58:09</td>\n",
       "      <td>משרד הבריאות הודיע כי כל האנשים שבאו במגע עם ש...</td>\n",
       "      <td>NaN</td>\n",
       "      <td>http://www.ynet.co.il/articles/0,7340,L-570728...</td>\n",
       "      <td>NaN</td>\n",
       "      <td>משרד הבריאות: כל מי שהיה במגע עם ליצמן שחלה בק...</td>\n",
       "      <td>ynet</td>\n",
       "      <td>...</td>\n",
       "      <td>NaN</td>\n",
       "      <td>None</td>\n",
       "      <td>NaN</td>\n",
       "      <td>None</td>\n",
       "      <td>None</td>\n",
       "      <td>None</td>\n",
       "      <td>None</td>\n",
       "      <td>None</td>\n",
       "      <td>None</td>\n",
       "      <td>None</td>\n",
       "    </tr>\n",
       "  </tbody>\n",
       "</table>\n",
       "<p>5 rows × 22 columns</p>\n",
       "</div>"
      ],
      "text/plain": [
       "      id accident             author                date  \\\n",
       "0  16439    False             רויטרס 2020-01-27 18:24:16   \n",
       "1  23098     True          חסן שעלאן 2020-04-03 10:19:31   \n",
       "2  23107    False          יקי אדמקר 2020-04-03 11:22:00   \n",
       "3  23108    False  מאיה הורודניצ'אנו 2020-04-03 11:12:00   \n",
       "4  23110    False          אדיר ינקו 2020-04-03 11:58:09   \n",
       "\n",
       "                                         description        lat  \\\n",
       "0  נשיא ארה\"ב דונלד טראמפ הודיע כי הבית הלבן יפרס...        NaN   \n",
       "1  אש נפתחה במהלך הלילה לעבר ביתו של עובד בכיר בש...  32.965655   \n",
       "2   בסביבת שר הבריאות יעקב ליצמן אמרו היום (שישי)...        NaN   \n",
       "3   פרקליטות מחוז ירושלים (פלילי) הגישה היום (שיש...        NaN   \n",
       "4  משרד הבריאות הודיע כי כל האנשים שבאו במגע עם ש...        NaN   \n",
       "\n",
       "                                                link        lon  \\\n",
       "0  http://www.ynet.co.il/articles/0,7340,L-566737...        NaN   \n",
       "1  http://www.ynet.co.il/articles/0,7340,L-570723...  35.381268   \n",
       "2              https://news.walla.co.il/item/3350294        NaN   \n",
       "3              https://news.walla.co.il/item/3350293        NaN   \n",
       "4  http://www.ynet.co.il/articles/0,7340,L-570728...        NaN   \n",
       "\n",
       "                                               title source  ... road2  \\\n",
       "0  טראמפ: הבית הלבן יפרסם את תוכנית השלום מחר ב-1...   ynet  ...   NaN   \n",
       "1  אש נפתחה לעבר ביתו של בכיר בשב\"ס בבית ג'אן, אי...   ynet  ...   NaN   \n",
       "2  מקורבים לליצמן: הוא שיתף פעולה בחקירה האפידמיו...  walla  ...   NaN   \n",
       "3  תושב בית שמש מואשם בתקיפת שוטר וסירוב לפזר התק...  walla  ...   NaN   \n",
       "4  משרד הבריאות: כל מי שהיה במגע עם ליצמן שחלה בק...   ynet  ...   NaN   \n",
       "\n",
       "   resolution  tweet_id district_hebrew  non_urban_intersection_hebrew  \\\n",
       "0        None       NaN            None                           None   \n",
       "1         עיר       NaN            None                           None   \n",
       "2        None       NaN            None                           None   \n",
       "3        None       NaN            None                           None   \n",
       "4        None       NaN            None                           None   \n",
       "\n",
       "  region_hebrew road_segment_name street1_hebrew street2_hebrew yishuv_name  \n",
       "0          None              None           None           None        None  \n",
       "1          None              None           None           None     בית ג'ן  \n",
       "2          None              None           None           None        None  \n",
       "3          None              None           None           None        None  \n",
       "4          None              None           None           None        None  \n",
       "\n",
       "[5 rows x 22 columns]"
      ]
     },
     "execution_count": 40,
     "metadata": {},
     "output_type": "execute_result"
    }
   ],
   "source": [
    "df_news_flash.head()"
   ]
  },
  {
   "cell_type": "code",
   "execution_count": null,
   "metadata": {},
   "outputs": [],
   "source": []
  }
 ],
 "metadata": {
  "kernelspec": {
   "display_name": "Python 3",
   "language": "python",
   "name": "python3"
  },
  "language_info": {
   "codemirror_mode": {
    "name": "ipython",
    "version": 3
   },
   "file_extension": ".py",
   "mimetype": "text/x-python",
   "name": "python",
   "nbconvert_exporter": "python",
   "pygments_lexer": "ipython3",
   "version": "3.7.6"
  }
 },
 "nbformat": 4,
 "nbformat_minor": 4
}
